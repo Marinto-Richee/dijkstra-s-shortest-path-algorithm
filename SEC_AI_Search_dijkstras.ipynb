{
 "cells": [
  {
   "cell_type": "code",
   "execution_count": 1,
   "id": "6905c89c",
   "metadata": {},
   "outputs": [],
   "source": [
    "%matplotlib inline\n",
    "import matplotlib.pyplot as plt\n",
    "import random\n",
    "import math\n",
    "import sys\n",
    "from collections import defaultdict, deque, Counter\n",
    "from itertools import combinations\n",
    "import heapq"
   ]
  },
  {
   "cell_type": "markdown",
   "id": "54a7d548",
   "metadata": {},
   "source": [
    "# Problems\n",
    "### This is the abstract class. Specific problem domains will subclass this."
   ]
  },
  {
   "cell_type": "code",
   "execution_count": 2,
   "id": "dfaabbbe",
   "metadata": {},
   "outputs": [],
   "source": [
    "class Problem(object):\n",
    "    \"\"\"The abstract class for a formal problem. A new domain subclasses this,\n",
    "    overriding `actions` and `results`, and perhaps other methods.\n",
    "    The default heuristic is 0 and the default action cost is 1 for all states.\n",
    "    When yiou create an instance of a subclass, specify `initial`, and `goal` states \n",
    "    (or give an `is_goal` method) and perhaps other keyword args for the subclass.\"\"\"\n",
    "\n",
    "    def __init__(self, initial=None, goal=None, **kwds): \n",
    "        self.__dict__.update(initial=initial, goal=goal, **kwds) \n",
    "        \n",
    "    def actions(self, state):        \n",
    "        raise NotImplementedError\n",
    "    def result(self, state, action): \n",
    "        raise NotImplementedError\n",
    "    def is_goal(self, state):        \n",
    "        return state == self.goal\n",
    "    def action_cost(self, s, a, s1): \n",
    "        return 1\n",
    "    \n",
    "    def __str__(self):\n",
    "        return '{0}({1}, {2})'.format(\n",
    "            type(self).__name__, self.initial, self.goal)"
   ]
  },
  {
   "cell_type": "markdown",
   "id": "64d1f679",
   "metadata": {},
   "source": [
    "# Nodes\n",
    "### This is the Node in the search tree. Helper functions (expand, path_actions, path_states) use this Node class."
   ]
  },
  {
   "cell_type": "code",
   "execution_count": 3,
   "id": "5168e2ac",
   "metadata": {},
   "outputs": [],
   "source": [
    "class Node:\n",
    "    \"A Node in a search tree.\"\n",
    "    def __init__(self, state, parent=None, action=None, path_cost=0):\n",
    "        self.__dict__.update(state=state, parent=parent, action=action, path_cost=path_cost)\n",
    "\n",
    "    def __str__(self): \n",
    "        return '<{0}>'.format(self.state)\n",
    "    def __len__(self): \n",
    "        return 0 if self.parent is None else (1 + len(self.parent))\n",
    "    def __lt__(self, other): \n",
    "        return self.path_cost < other.path_cost"
   ]
  },
  {
   "cell_type": "code",
   "execution_count": 4,
   "id": "ea2f5453",
   "metadata": {},
   "outputs": [],
   "source": [
    "failure = Node('failure', path_cost=math.inf) # Indicates an algorithm couldn't find a solution.\n",
    "cutoff  = Node('cutoff',  path_cost=math.inf) # Indicates iterative deepening search was cut off."
   ]
  },
  {
   "cell_type": "markdown",
   "id": "0d3ddbb5",
   "metadata": {},
   "source": [
    "# Helper functions"
   ]
  },
  {
   "cell_type": "code",
   "execution_count": 5,
   "id": "a5573bd4",
   "metadata": {},
   "outputs": [],
   "source": [
    "def expand(problem, node):\n",
    "    \"Expand a node, generating the children nodes.\"\n",
    "    s = node.state\n",
    "    for action in problem.actions(s):\n",
    "        s1 = problem.result(s, action)\n",
    "        cost = node.path_cost + problem.action_cost(s, action, s1)\n",
    "        yield Node(s1, node, action, cost)\n",
    "        \n",
    "\n",
    "def path_actions(node):\n",
    "    \"The sequence of actions to get to this node.\"\n",
    "    if node.parent is None:\n",
    "        return []  \n",
    "    return path_actions(node.parent) + [node.action]\n",
    "\n",
    "\n",
    "def path_states(node):\n",
    "    \"The sequence of states to get to this node.\"\n",
    "    if node in (cutoff, failure, None): \n",
    "        return []\n",
    "    return path_states(node.parent) + [node.state]"
   ]
  },
  {
   "cell_type": "markdown",
   "id": "39e328d0",
   "metadata": {},
   "source": [
    "# Search Algorithm : Dijkstra's shortest path algorithm"
   ]
  },
  {
   "cell_type": "code",
   "execution_count": 6,
   "id": "5d793b71",
   "metadata": {},
   "outputs": [],
   "source": [
    "class PriorityQueue:\n",
    "    \"\"\"A queue in which the item with minimum f(item) is always popped first.\"\"\"\n",
    "\n",
    "    def __init__(self, items=(), key=lambda x: x): \n",
    "        self.key = key\n",
    "        self.items = [] # a heap of (score, item) pairs\n",
    "        for item in items:\n",
    "            self.add(item)\n",
    "         \n",
    "    def add(self, item):\n",
    "        \"\"\"Add item to the queuez.\"\"\"\n",
    "        pair = (self.key(item), item)\n",
    "        heapq.heappush(self.items, pair)\n",
    "\n",
    "    def pop(self):\n",
    "        \"\"\"Pop and return the item with min f(item) value.\"\"\"\n",
    "        return heapq.heappop(self.items)[1]\n",
    "    \n",
    "    def top(self): return self.items[0][1]\n",
    "\n",
    "    def __len__(self): return len(self.items)"
   ]
  },
  {
   "cell_type": "code",
   "execution_count": 7,
   "id": "745ee46e",
   "metadata": {},
   "outputs": [],
   "source": [
    "def best_first_search(problem, f):\n",
    "    \"Search nodes with minimum f(node) value first.\"\n",
    "    node = Node(problem.initial)\n",
    "    frontier = PriorityQueue([node], key=f)\n",
    "    reached = {problem.initial: node}\n",
    "    while frontier:\n",
    "        node=frontier.pop()\n",
    "        if problem.is_goal(node.state):\n",
    "            return node\n",
    "        for child in expand(problem,node):\n",
    "            s=child.state\n",
    "            if s not in reached or child.path_cost<reached[s].path_cost:\n",
    "                reached[s]=child\n",
    "                frontier.add(child)\n",
    "    return failure\n",
    "\n",
    "def g(n):\n",
    "    return n.path_cost\n",
    "    cost = 1\n",
    "    return cost"
   ]
  },
  {
   "cell_type": "markdown",
   "id": "f53ff968",
   "metadata": {},
   "source": [
    "# Route Finding Problems"
   ]
  },
  {
   "cell_type": "code",
   "execution_count": 8,
   "id": "ba12fff5",
   "metadata": {},
   "outputs": [],
   "source": [
    "class RouteProblem(Problem):\n",
    "    \"\"\"A problem to find a route between locations on a `Map`.\n",
    "    Create a problem with RouteProblem(start, goal, map=Map(...)}).\n",
    "    States are the vertexes in the Map graph; actions are destination states.\"\"\"\n",
    "    \n",
    "    def actions(self, state): \n",
    "        \"\"\"The places neighboring `state`.\"\"\"\n",
    "        return self.map.neighbors[state]\n",
    "    \n",
    "    def result(self, state, action):\n",
    "        \"\"\"Go to the `action` place, if the map says that is possible.\"\"\"\n",
    "        return action if action in self.map.neighbors[state] else state\n",
    "    \n",
    "    def action_cost(self, s, action, s1):\n",
    "        \"\"\"The distance (cost) to go from s to s1.\"\"\"\n",
    "        return self.map.distances[s, s1]\n",
    "    \n",
    "    def h(self, node):\n",
    "        \"Straight-line distance between state and the goal.\"\n",
    "        locs = self.map.locations\n",
    "        return straight_line_distance(locs[node.state], locs[self.goal])"
   ]
  },
  {
   "cell_type": "code",
   "execution_count": 9,
   "id": "ff409cdb",
   "metadata": {},
   "outputs": [],
   "source": [
    "class Map:\n",
    "    \"\"\"A map of places in a 2D world: a graph with vertexes and links between them. \n",
    "    In `Map(links, locations)`, `links` can be either [(v1, v2)...] pairs, \n",
    "    or a {(v1, v2): distance...} dict. Optional `locations` can be {v1: (x, y)} \n",
    "    If `directed=False` then for every (v1, v2) link, we add a (v2, v1) link.\"\"\"\n",
    "\n",
    "    def __init__(self, links, locations=None, directed=False):\n",
    "        if not hasattr(links, 'items'): # Distances are 1 by default\n",
    "            links = {link: 1 for link in links}\n",
    "        if not directed:\n",
    "            for (v1, v2) in list(links):\n",
    "                links[v2, v1] = links[v1, v2]\n",
    "        self.distances = links\n",
    "        self.neighbors = multimap(links)\n",
    "        self.locations = locations or defaultdict(lambda: (0, 0))\n",
    "\n",
    "        \n",
    "def multimap(pairs) -> dict:\n",
    "    \"Given (key, val) pairs, make a dict of {key: [val,...]}.\"\n",
    "    result = defaultdict(list)\n",
    "    for key, val in pairs:\n",
    "        result[key].append(val)\n",
    "    return result"
   ]
  },
  {
   "cell_type": "code",
   "execution_count": 10,
   "id": "a4f87486",
   "metadata": {},
   "outputs": [],
   "source": [
    "nearby_locations = Map({\n",
    "        ('Vijayapura', 'Hoskote'):  30, \n",
    "        ('Hoskote', 'Bengaluru'):  29, \n",
    "        ('Hoskote', 'Malur'):  18, \n",
    "        ('Malur', 'Bengaluru'):  44, \n",
    "        ('Bengaluru', 'Bommasandra'):  22, \n",
    "        ('Bommasandra', 'Hosur'):  20, \n",
    "        ('Malur', 'Tekal'):  17, \n",
    "        ('Malur', 'Chikkaramakanahally'):  24, \n",
    "        ('Tekal', 'Chikkaramakanahally'):  15, \n",
    "        ('Kolar', 'Tekal'):  21, \n",
    "        ('Tekal', 'Bangarapet'):  14, \n",
    "        ('Bangarapet', 'KGF'):  13, \n",
    "        ('Bangarapet', 'Kamasamudram'):  19, \n",
    "        ('Kamasamudram', 'KGF'):  17, \n",
    "        ('Chikkaramakanahally', 'Kamasamudram'):  20, \n",
    "        ('Chikkaramakanahally', 'Athimugam'):  20, \n",
    "        ('Chikkaramakanahally', 'Nachikuppam'):  24, \n",
    "        ('Kamasamudram', 'Nachikuppam'):  20, \n",
    "        ('Nachikuppam', 'Kuppam'):  25, \n",
    "        ('Hosur', 'Athimugam'):  20, \n",
    "        ('Nachikuppam', 'Athimugam'):  25, \n",
    "        ('Shoolagiri', 'Athimugam'):  10, \n",
    "        ('Hosur', 'Karunkkanahalli'):  21, \n",
    "        ('Shoolagiri', 'Karunkkanahalli'):  14, \n",
    "        ('Shoolagiri', 'Nachikuppam'):  21, \n",
    "        ('Polupalli', 'Nachikuppam'):  13, \n",
    "        ('Shoolagiri', 'Rayakottai'):  20, \n",
    "        ('Shoolagiri', 'Krishnagiri'):  31,\n",
    "        ('Polupalli', 'Krishnagiri'):  16, })\n",
    "r0 = RouteProblem('Polupalli', 'KGF', map= nearby_locations)\n",
    "r1 = RouteProblem('Shoolagiri', 'Kolar', map= nearby_locations)\n",
    "r2 = RouteProblem('Hosur', 'KGF', map= nearby_locations)\n",
    "r3 = RouteProblem('Kamasamudram', 'Malur', map= nearby_locations)\n",
    "r4 = RouteProblem('Polupalli', 'Vijayapura', map= nearby_locations)\n",
    "r5 = RouteProblem('Tekal', 'Krishnagiri', map= nearby_locations)"
   ]
  },
  {
   "cell_type": "code",
   "execution_count": 30,
   "id": "c1fdb994",
   "metadata": {},
   "outputs": [
    {
     "name": "stdout",
     "output_type": "stream",
     "text": [
      "GoalStateWithPath:<KGF>\n",
      "['Polupalli', 'Nachikuppam', 'Kamasamudram', 'KGF']\n",
      "Total Distance=50 Kilometers\n"
     ]
    }
   ],
   "source": [
    "goal_state_path=best_first_search(r0,g)\n",
    "print(\"GoalStateWithPath:{0}\".format(goal_state_path))\n",
    "print([(path_states(goal_state_path))[i] for i in range(len((path_states(goal_state_path))))])\n",
    "print(\"Total Distance={0} Kilometers\".format(goal_state_path.path_cost))"
   ]
  },
  {
   "cell_type": "code",
   "execution_count": 31,
   "id": "c6b52565",
   "metadata": {},
   "outputs": [
    {
     "name": "stdout",
     "output_type": "stream",
     "text": [
      "GoalStateWithPath:<Kolar>\n",
      "['Shoolagiri', 'Athimugam', 'Chikkaramakanahally', 'Tekal', 'Kolar']\n",
      "Total Distance=66 Kilometers\n"
     ]
    }
   ],
   "source": [
    "goal_state_path=best_first_search(r1,g)\n",
    "print(\"GoalStateWithPath:{0}\".format(goal_state_path))\n",
    "print([(path_states(goal_state_path))[i] for i in range(len((path_states(goal_state_path))))])\n",
    "print(\"Total Distance={0} Kilometers\".format(goal_state_path.path_cost))"
   ]
  },
  {
   "cell_type": "code",
   "execution_count": 32,
   "id": "c9ab57d4",
   "metadata": {},
   "outputs": [
    {
     "name": "stdout",
     "output_type": "stream",
     "text": [
      "GoalStateWithPath:<KGF>\n",
      "['Hosur', 'Athimugam', 'Chikkaramakanahally', 'Kamasamudram', 'KGF']\n",
      "Total Distance=77 Kilometers\n"
     ]
    }
   ],
   "source": [
    "goal_state_path=best_first_search(r2,g)\n",
    "print(\"GoalStateWithPath:{0}\".format(goal_state_path))\n",
    "print([(path_states(goal_state_path))[i] for i in range(len((path_states(goal_state_path))))])\n",
    "print(\"Total Distance={0} Kilometers\".format(goal_state_path.path_cost))"
   ]
  },
  {
   "cell_type": "code",
   "execution_count": 33,
   "id": "5614da73",
   "metadata": {},
   "outputs": [
    {
     "name": "stdout",
     "output_type": "stream",
     "text": [
      "GoalStateWithPath:<Malur>\n",
      "['Kamasamudram', 'Chikkaramakanahally', 'Malur']\n",
      "Total Distance=44 Kilometers\n"
     ]
    }
   ],
   "source": [
    "goal_state_path=best_first_search(r3,g)\n",
    "print(\"GoalStateWithPath:{0}\".format(goal_state_path))\n",
    "print([(path_states(goal_state_path))[i] for i in range(len((path_states(goal_state_path))))])\n",
    "print(\"Total Distance={0} Kilometers\".format(goal_state_path.path_cost))"
   ]
  },
  {
   "cell_type": "code",
   "execution_count": 34,
   "id": "1d36d577",
   "metadata": {},
   "outputs": [
    {
     "name": "stdout",
     "output_type": "stream",
     "text": [
      "GoalStateWithPath:<Vijayapura>\n",
      "['Polupalli', 'Nachikuppam', 'Chikkaramakanahally', 'Malur', 'Hoskote', 'Vijayapura']\n",
      "Total Distance=109 Kilometers\n"
     ]
    }
   ],
   "source": [
    "goal_state_path=best_first_search(r4,g)\n",
    "print(\"GoalStateWithPath:{0}\".format(goal_state_path))\n",
    "print([(path_states(goal_state_path))[i] for i in range(len((path_states(goal_state_path))))])\n",
    "print(\"Total Distance={0} Kilometers\".format(goal_state_path.path_cost))"
   ]
  },
  {
   "cell_type": "code",
   "execution_count": 35,
   "id": "4fd4543a",
   "metadata": {},
   "outputs": [
    {
     "name": "stdout",
     "output_type": "stream",
     "text": [
      "GoalStateWithPath:<Krishnagiri>\n",
      "['Tekal', 'Chikkaramakanahally', 'Nachikuppam', 'Polupalli', 'Krishnagiri']\n",
      "Total Distance=68 Kilometers\n"
     ]
    }
   ],
   "source": [
    "goal_state_path=best_first_search(r5,g)\n",
    "print(\"GoalStateWithPath:{0}\".format(goal_state_path))\n",
    "print([(path_states(goal_state_path))[i] for i in range(len((path_states(goal_state_path))))])\n",
    "print(\"Total Distance={0} Kilometers\".format(goal_state_path.path_cost))"
   ]
  }
 ],
 "metadata": {
  "kernelspec": {
   "display_name": "Python 3 (ipykernel)",
   "language": "python",
   "name": "python3"
  },
  "language_info": {
   "codemirror_mode": {
    "name": "ipython",
    "version": 3
   },
   "file_extension": ".py",
   "mimetype": "text/x-python",
   "name": "python",
   "nbconvert_exporter": "python",
   "pygments_lexer": "ipython3",
   "version": "3.9.7"
  }
 },
 "nbformat": 4,
 "nbformat_minor": 5
}
